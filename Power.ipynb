{
 "cells": [
  {
   "cell_type": "code",
   "execution_count": null,
   "metadata": {},
   "outputs": [
    {
     "name": "stdout",
     "output_type": "stream",
     "text": [
      "Leading eigenvalue: 15.0\n",
      "Leading eigenvector: [0.6667, -0.6667, 0.3333]\n",
      "Leading eigenvalue: 10.0\n",
      "Leading eigenvector: [0.8166, -0.4082, 0.4082]\n"
     ]
    }
   ],
   "source": [
    "using LinearAlgebra\n",
    "\n",
    "# Function to compute the leading eigenvalue and eigenvector using the power method\n",
    "function power_method_eigen(A::AbstractMatrix{T}; num_iterations::Int=1000, tolerance::Float64=1e-6, round_digits::Int=4) where T<:Real\n",
    "    # Ensure that A is square\n",
    "    n, m = size(A)\n",
    "    if n != m\n",
    "        error(\"Matrix A must be square.\")\n",
    "    end\n",
    "    # Initialize and normalize a random vector\n",
    "    x = rand(n) \n",
    "    x /= norm(x)\n",
    "\n",
    "    eigenval_old = 0.0\n",
    "    eigenval = 0.0\n",
    "\n",
    "    for i in 1:num_iterations \n",
    "        # Compute new vector \n",
    "        x_new = A * x\n",
    "        # Compute the Rayleigh quotient as an estimate of the eigenvalue\n",
    "        eigenval = dot(x_new, x) \n",
    "        # Normalize new vector \n",
    "        x_new /= norm(x_new) \n",
    "        # If old eigenvalue approx = new eigenvalue, terminate\n",
    "        if abs(eigenval - eigenval_old) < tolerance\n",
    "            break\n",
    "        end \n",
    "        # set values for next iteration\n",
    "        x = x_new\n",
    "        eigenval_old = eigenval\n",
    "    end\n",
    "    # round eigenvalue and eigenvector\n",
    "    eigenval = round(eigenval, digits=round_digits)\n",
    "    x = round.(x, digits=round_digits)\n",
    "\n",
    "    return eigenval, x\n",
    "end\n",
    "\n",
    "# Testing \n",
    "A = [8 -6 2;\n",
    "    -6 7 -4;\n",
    "    2 -4 3];\n",
    "eigenval, v = power_method_eigen(A)\n",
    "println(\"Leading eigenvalue: \", eigenval)\n",
    "println(\"Leading eigenvector: \", v)\n",
    "\n",
    "\n",
    "A = [5 -5 5;\n",
    "    -5 0 0;\n",
    "    5 0 0];\n",
    "eigenval, v = power_method_eigen(A)\n",
    "println(\"Leading eigenvalue: \", eigenval)\n",
    "println(\"Leading eigenvector: \", v)\n"
   ]
  }
 ],
 "metadata": {
  "kernelspec": {
   "display_name": "Julia 1.10.4",
   "language": "julia",
   "name": "julia-1.10"
  },
  "language_info": {
   "file_extension": ".jl",
   "mimetype": "application/julia",
   "name": "julia",
   "version": "1.10.4"
  }
 },
 "nbformat": 4,
 "nbformat_minor": 2
}

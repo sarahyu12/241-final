{
 "cells": [
  {
   "cell_type": "code",
   "execution_count": null,
   "metadata": {},
   "outputs": [
    {
     "data": {
      "text/plain": [
       "qr_method_singular"
      ]
     },
     "execution_count": 16,
     "metadata": {},
     "output_type": "execute_result"
    }
   ],
   "source": [
    "using LinearAlgebra\n",
    "\n",
    "\n",
    "\"\"\"\n",
    "Compute the largest singular value and singular vector of a symmetric matrix A using the QR iteration method.\n",
    "\n",
    "Arguments:\n",
    "- `A`: Symmetric matrix.\n",
    "- `num_iterations`: Maximum number of iterations to run.\n",
    "- `tolerance`: Tolerance for convergence check.\n",
    "\n",
    "Returns:\n",
    "- singularval: Leading singular value\n",
    "- singulavector: Singular vector corresponding to the leading singular value.\n",
    "\"\"\"\n",
    "function qr_method_singular(A; num_iterations::Int=1000, tolerance::Float64=1e-8, round_digits::Int=4)\n",
    "    # Make a copy of A to avoid modifying the original\n",
    "    A_current = copy(A) \n",
    "    n = size(A_current, 1)\n",
    "    \n",
    "    # Initially, P = I\n",
    "    P = Matrix(I, n, n)\n",
    "    \n",
    "    # QR iteration\n",
    "    for k = 1:num_iterations\n",
    "        # Compute the QR factorization of A_current\n",
    "        Q, R = qr(A_current)\n",
    "        \n",
    "        # Update A_k = R * Q\n",
    "        A_next = R * Q\n",
    "        \n",
    "        # Update P = P * Q\n",
    "        P = P * Q\n",
    "        \n",
    "        # Check if A_next is approximately diagonal\n",
    "        # We do this by checking the norm of the off-diagonal elements\n",
    "        off_diag = A_next .- Diagonal(diag(A_next))\n",
    "        if norm(off_diag) < tolerance\n",
    "            A_current = A_next\n",
    "            break\n",
    "        end\n",
    "        \n",
    "        A_current = A_next\n",
    "    end\n",
    "    \n",
    "    \n",
    "     # Extract all eigenvalues\n",
    "     eigenvalues = diag(A_current)\n",
    "    \n",
    "     # Identify the index of the largest eigenvalue\n",
    "     index = argmax(abs.(eigenvalues))\n",
    "     eigenval = eigenvalues[index]\n",
    "     \n",
    "     # The columns of P are the eigenvectors\n",
    "     eigenvectors = P\n",
    "     eigenvector = eigenvectors[:, index]\n",
    "     \n",
    "    eigenval = abs.(eigenval)\n",
    "     \n",
    "     # Rounding for readability\n",
    "     singularval = round(eigenval, digits=round_digits)\n",
    "     singularvector = round.(eigenvector, digits=round_digits)\n",
    "     \n",
    "     return singularval, singularvector\n",
    "end\n",
    "\n"
   ]
  },
  {
   "cell_type": "code",
   "execution_count": 18,
   "metadata": {},
   "outputs": [
    {
     "name": "stdout",
     "output_type": "stream",
     "text": [
      "\n",
      "\n",
      "Leading singular value: 18.015\n",
      "Leading left singular vector: [0.3376, 0.6877, 0.6427]\n",
      "\n",
      "First singular value: 18.014996983449127\n",
      "First left singular vector (U[:,1]):\n",
      "[-0.33759496119124444, -0.687697574601985, -0.6427298717694938]\n",
      "First right singular vector (V[:,1]):\n",
      "[-0.3375949611912446, -0.6876975746019848, -0.6427298717694937]\n"
     ]
    }
   ],
   "source": [
    "\n",
    "\n",
    "# Testing \n",
    "\n",
    "A = [10 3 1; 3 10 7 ; 1 7 10] \n",
    "\n",
    "println();\n",
    "println();\n",
    "\n",
    "singularval, u  = qr_method_singular(A)\n",
    "println(\"Leading singular value: \", singularval)\n",
    "println(\"Leading left singular vector: \", u) \n",
    "\n",
    "println();\n",
    "# Perform SVD\n",
    "svd_result = svd(A)\n",
    "\n",
    "# Print the first singular value\n",
    "println(\"First singular value: \", svd_result.S[1])\n",
    "\n",
    "# Print the first left singular vector (U matrix, first column)\n",
    "println(\"First left singular vector (U[:,1]):\")\n",
    "println(svd_result.U[:, 1])\n",
    "\n",
    "# Print the first left singular vector (U matrix, first column)\n",
    "println(\"First right singular vector (V[:,1]):\")\n",
    "println(svd_result.V[:, 1])\n"
   ]
  }
 ],
 "metadata": {
  "kernelspec": {
   "display_name": "Julia 1.10.4",
   "language": "julia",
   "name": "julia-1.10"
  },
  "language_info": {
   "file_extension": ".jl",
   "mimetype": "application/julia",
   "name": "julia",
   "version": "1.10.4"
  }
 },
 "nbformat": 4,
 "nbformat_minor": 2
}
